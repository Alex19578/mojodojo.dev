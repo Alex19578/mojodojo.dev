{
 "cells": [
  {
   "attachments": {},
   "cell_type": "markdown",
   "metadata": {},
   "source": [
    "# Introduction to Mojo and System Programming\n",
    "This guide assumes some familiarity with a programming language like Python, but does not assume knowledge about computer science fundamentals. It will be a natural stepping stone from Python to Mojo, but also useful for beginners through to experienced programmers looking to get started with Mojo.\n",
    "\n",
    "Some of these concepts might be brand new to you, don't worry if they don't make sense right now, it takes a while for these things to click. Keep moving and we'll do a lot of examples to cement them in your mind.\n",
    "\n",
    "## Basic types\n",
    "Python is a beautiful and popular language that's easy to get started with, but it hides a lot of details from the programmer, and that comes at a performance cost.\n",
    "\n",
    "Let's run some Python code and print the result in Mojo:"
   ]
  },
  {
   "cell_type": "code",
   "execution_count": 1,
   "metadata": {},
   "outputs": [
    {
     "name": "stdout",
     "output_type": "stream",
     "text": [
      "15\n"
     ]
    }
   ],
   "source": [
    "x = Python.evaluate(\"5 + 10\")\n",
    "print(x)"
   ]
  },
  {
   "attachments": {},
   "cell_type": "markdown",
   "metadata": {},
   "source": [
    "Mojo now has the same representation for `x` as Python uses, which is a `pointer` to a C object with a value, type, and some other things. Let's explore this a little more using the Python interpreter, we can access all the Python keywords by importing `builtins`:"
   ]
  },
  {
   "cell_type": "code",
   "execution_count": 2,
   "metadata": {},
   "outputs": [
    {
     "name": "stdout",
     "output_type": "stream",
     "text": [
      "139839161194784\n"
     ]
    }
   ],
   "source": [
    "let py = Python.import_module(\"builtins\")\n",
    "\n",
    "print(py.id(x))"
   ]
  },
  {
   "attachments": {},
   "cell_type": "markdown",
   "metadata": {},
   "source": [
    "`id()` gives us an address to the C object that `x` is pointing to, when we `print(x)`, it's actually taking the address stored in `x` and looking up the value at that location in your computers RAM, which comes with a performance cost. Let's dive into this a little further by understanding `stack` and `heap` memory.\n",
    "\n",
    "## Stack\n",
    "This is the fast access section of memory that is allocated to your computers RAM, take a simple program:"
   ]
  },
  {
   "cell_type": "code",
   "execution_count": 3,
   "metadata": {},
   "outputs": [],
   "source": [
    "%%python\n",
    "def double(a):\n",
    "    return a * 2 \n",
    "\n",
    "def quad(a):\n",
    "    return a * 4 \n",
    "\n",
    "a = 1\n",
    "\n",
    "a = double(a)\n",
    "a = quad(a)"
   ]
  },
  {
   "attachments": {},
   "cell_type": "markdown",
   "metadata": {},
   "source": [
    "If we represent the instructions in pseudo code, this is a simplified version of what your `stack` memory would look like as the program runs:"
   ]
  },
  {
   "cell_type": "code",
   "execution_count": 4,
   "metadata": {},
   "outputs": [
    {
     "name": "stdout",
     "output_type": "stream",
     "text": [
      "[{'a': 1, 'frame': 'main', 'function_calls': ['double(a)', 'quad(a)']},\n",
      " {'a': 1, 'frame': 'add'}]\n"
     ]
    }
   ],
   "source": [
    "%%python\n",
    "from pprint import pprint\n",
    "\n",
    "stack = []\n",
    "stack.append({\"frame\": \"main\", \"a\": 1, \"function_calls\": [\"double(a)\", \"quad(a)\"]})\n",
    "stack.append({\"frame\": \"add\", \"a\": 1})\n",
    "\n",
    "pprint(stack)"
   ]
  },
  {
   "attachments": {},
   "cell_type": "markdown",
   "metadata": {},
   "source": [
    "The program starts by allocating variables from `main` to the `stack` memory, the first function is `add` so it is then appended to the stack.\n",
    "\n",
    "When it's finished running and returns the result, all the variables in `add` are popped off the stack:"
   ]
  },
  {
   "cell_type": "code",
   "execution_count": 5,
   "metadata": {},
   "outputs": [
    {
     "name": "stdout",
     "output_type": "stream",
     "text": [
      "[{'frame': 'main', 'a': 2, 'function_calls': ['double(a)', 'quad(a)']}]\n"
     ]
    }
   ],
   "source": [
    "%%python\n",
    "stack.pop()\n",
    "stack[0][\"a\"] *= 2\n",
    "print(stack)"
   ]
  },
  {
   "attachments": {},
   "cell_type": "markdown",
   "metadata": {},
   "source": [
    "This is why a `stack` is called Last In First Out (LIFO), because the `last` function to be allocated is the first one `out` of the stack.\n",
    "\n",
    "The next function calls `quad` and the variable is appended to the stack memory and runs, it then returns while updating `a` and being popped off the stack, then `main` is popped off the stack as there are no more instructions to run which ends the program:"
   ]
  },
  {
   "cell_type": "code",
   "execution_count": 6,
   "metadata": {},
   "outputs": [
    {
     "name": "stdout",
     "output_type": "stream",
     "text": [
      "[]\n"
     ]
    }
   ],
   "source": [
    "%%python\n",
    "stack.append({\"frame\": \"quad\", \"a\": 2})\n",
    "stack[0][\"a\"] *= 4\n",
    "stack.pop()\n",
    "stack.pop()\n",
    "print(stack)"
   ]
  },
  {
   "attachments": {},
   "cell_type": "markdown",
   "metadata": {},
   "source": [
    "## Heap"
   ]
  },
  {
   "attachments": {},
   "cell_type": "markdown",
   "metadata": {},
   "source": [
    "The Heap memory is huge, it can use the remainder of the available RAM on your OS, Python uses it for every object to provide us with conveniences, `a` in the previous example doesn't actually contain the value `1` at the start of the program, it contains an address to another place in memory on the heap:"
   ]
  },
  {
   "cell_type": "code",
   "execution_count": 7,
   "metadata": {},
   "outputs": [],
   "source": [
    "%%python\n",
    "heap = {\n",
    "    44601345678945: {\n",
    "        \"type\": \"int\",\n",
    "        \"ref_count\": 1,\n",
    "        \"size\": 1,\n",
    "        \"digit\": 8,\n",
    "        #...\n",
    "    }\n",
    "}"
   ]
  },
  {
   "attachments": {},
   "cell_type": "markdown",
   "metadata": {},
   "source": [
    "So on the stack `a` looks more like this for each frame:"
   ]
  },
  {
   "cell_type": "code",
   "execution_count": 8,
   "metadata": {},
   "outputs": [],
   "source": [
    "%%python\n",
    "[\n",
    "    {\"frame\": \"main\", \"a\": 44601345678945 }\n",
    "]"
   ]
  },
  {
   "attachments": {},
   "cell_type": "markdown",
   "metadata": {},
   "source": [
    "Where `a` contains an address that is pointing to the heap object, in Python when we write something like:"
   ]
  },
  {
   "cell_type": "code",
   "execution_count": 9,
   "metadata": {},
   "outputs": [],
   "source": [
    "a = \"mojo\""
   ]
  },
  {
   "attachments": {},
   "cell_type": "markdown",
   "metadata": {},
   "source": [
    "The object in C will change its representation:"
   ]
  },
  {
   "cell_type": "code",
   "execution_count": 10,
   "metadata": {},
   "outputs": [],
   "source": [
    "%%python\n",
    "heap = {\n",
    "    \"a\": {\n",
    "        \"type\": \"string\",\n",
    "        \"ref_count\": 1,\n",
    "        \"size\": 4,\n",
    "        \"ascii\": True,\n",
    "        # utf-8 / ascii for \"mojo\"\n",
    "        \"value\": [109, 111, 106, 111]\n",
    "        # ...\n",
    "    }\n",
    "}"
   ]
  },
  {
   "attachments": {},
   "cell_type": "markdown",
   "metadata": {},
   "source": [
    "This allows Python to do nice convenient things for us\n",
    "- once the `ref_count` goes to zero it will be de-allocated from the heap during garbage collection, so the OS can use that memory for something else\n",
    "- an integer can grow beyond 64 bits by increasing `size`\n",
    "- we can dynamically change the `type`\n",
    "- the data can be large or small, we don't have to worry about it if we should allocate to stack or heap\n",
    "\n",
    "However this also comes with a penalty, there is a lot more extra memory being used for the extra fields, and it also takes CPU instructions to allocate the data, retrieve it, deallocate it etc.\n",
    "\n",
    "_If the `stack` and `heap` isn't making sense, [check out this video](https://www.youtube.com/watch?v=_8-ht2AKyH4), it uses some great visual aids_\n",
    "\n",
    "In Mojo we can remove all that overhead:"
   ]
  },
  {
   "attachments": {},
   "cell_type": "markdown",
   "metadata": {},
   "source": [
    "## Mojo 🔥"
   ]
  },
  {
   "cell_type": "code",
   "execution_count": 11,
   "metadata": {},
   "outputs": [
    {
     "name": "stdout",
     "output_type": "stream",
     "text": [
      "15\n"
     ]
    }
   ],
   "source": [
    "x = 5 + 10\n",
    "print(x)"
   ]
  },
  {
   "attachments": {},
   "cell_type": "markdown",
   "metadata": {},
   "source": [
    "We've just unlocked our first two Mojo optimizations! Instead of looking up an object on the heap via an address, `x` is now just a value on the stack with 64 bits that can be passed through registers.\n",
    "\n",
    "The performance implications of this alone run very deep:\n",
    "\n",
    "- Allocation, Deallocation, Indirection etc. is all very expensive and no longer required\n",
    "- The compiler can do huge optimizations in loops and other things when it knows what the numeric type is\n",
    "- The value can be passed through registers for simple operations\n",
    "- The data can now be packed into a vector for huge performance gains\n",
    "\n",
    "That last one is very important for today's world, let's see how Mojo gives us the power to take advantage of modern hardware.\n",
    "\n",
    "## SIMD"
   ]
  },
  {
   "attachments": {},
   "cell_type": "markdown",
   "metadata": {},
   "source": [
    "SIMD stands for `Single Instruction, Multiple Data`, hardware now contains special registers that allow you do the same operation in a single instruction, greatly improving performance, let's take a look:"
   ]
  },
  {
   "cell_type": "code",
   "execution_count": 15,
   "metadata": {},
   "outputs": [
    {
     "name": "stdout",
     "output_type": "stream",
     "text": [
      "[1, 2, 3, 4]\n"
     ]
    }
   ],
   "source": [
    "from DType import DType\n",
    "\n",
    "y = SIMD[DType.ui16, 4](1, 2, 3, 4)\n",
    "print(y)"
   ]
  },
  {
   "attachments": {},
   "cell_type": "markdown",
   "metadata": {},
   "source": [
    "This is now a vector of 16bit numbers that are packed into 64bits, it's taking up the same space as a single 64bit `Int`, and we can perform a single instruction instead of 4 separate instructions:"
   ]
  },
  {
   "cell_type": "code",
   "execution_count": 16,
   "metadata": {},
   "outputs": [
    {
     "name": "stdout",
     "output_type": "stream",
     "text": [
      "[10, 20, 30, 40]\n"
     ]
    }
   ],
   "source": [
    "y *= 10\n",
    "print(y)"
   ]
  },
  {
   "attachments": {},
   "cell_type": "markdown",
   "metadata": {},
   "source": [
    "You can also initialize it just using a single argument:"
   ]
  },
  {
   "cell_type": "code",
   "execution_count": 19,
   "metadata": {},
   "outputs": [
    {
     "name": "stdout",
     "output_type": "stream",
     "text": [
      "[1, 1, 1, 1]\n"
     ]
    }
   ],
   "source": [
    "z = SIMD[DType.ui16, 4](1)\n",
    "print(z)"
   ]
  },
  {
   "attachments": {},
   "cell_type": "markdown",
   "metadata": {},
   "source": [
    "Or do it in a loop:"
   ]
  },
  {
   "cell_type": "code",
   "execution_count": 17,
   "metadata": {},
   "outputs": [
    {
     "name": "stdout",
     "output_type": "stream",
     "text": [
      "[0, 0, 0, 0]\n",
      "[1, 1, 1, 1]\n",
      "[2, 2, 2, 2]\n"
     ]
    }
   ],
   "source": [
    "for i in range(3):\n",
    "    print(SIMD[DType.ui16, 4](i))"
   ]
  },
  {
   "attachments": {},
   "cell_type": "markdown",
   "metadata": {},
   "source": [
    "You can also access a single item in the vector:"
   ]
  },
  {
   "cell_type": "code",
   "execution_count": 26,
   "metadata": {},
   "outputs": [
    {
     "name": "stdout",
     "output_type": "stream",
     "text": [
      "1\n"
     ]
    }
   ],
   "source": [
    "print(z[0])"
   ]
  },
  {
   "attachments": {},
   "cell_type": "markdown",
   "metadata": {},
   "source": [
    "Modern CPUs generally have a register with a vector size of 512, so this becomes very powerful way to improve processing speed. Think about a string, each character is generally 8 bits of data, so we can pack 64 characters into a single register and perform one operation on all of it to be 64x faster.\n",
    "\n",
    "## Exercises\n",
    "1. Create a SIMD of DType UI8, 16 bytes wide and each value at 2, then multiply it by 8 and print it\n",
    "2. Create a loop using SIMD that prints four rows of data that looks like this:\n",
    "    [1,0,0,0]\n",
    "    [0,2,0,0]\n",
    "    [0,0,3,0]\n",
    "    [0,0,0,4]"
   ]
  },
  {
   "attachments": {},
   "cell_type": "markdown",
   "metadata": {},
   "source": [
    "## Solutions\n",
    "### Exercise 1"
   ]
  },
  {
   "cell_type": "code",
   "execution_count": 24,
   "metadata": {},
   "outputs": [
    {
     "name": "stdout",
     "output_type": "stream",
     "text": [
      "[16, 16, 16, 16, 16, 16, 16, 16, 16, 16, 16, 16, 16, 16, 16, 16]\n"
     ]
    }
   ],
   "source": [
    "print(SIMD[DType.ui8, 16](2) * 8)"
   ]
  },
  {
   "attachments": {},
   "cell_type": "markdown",
   "metadata": {},
   "source": [
    "### Exercise 2"
   ]
  },
  {
   "cell_type": "code",
   "execution_count": 30,
   "metadata": {},
   "outputs": [
    {
     "name": "stdout",
     "output_type": "stream",
     "text": [
      "[1, 0, 0, 0]\n",
      "[0, 2, 0, 0]\n",
      "[0, 0, 3, 0]\n",
      "[0, 0, 0, 4]\n"
     ]
    }
   ],
   "source": [
    "for i in range(4):\n",
    "    vec = SIMD[DType.ui8, 4](0)\n",
    "    vec[i] = i + 1\n",
    "    print(vec)"
   ]
  }
 ],
 "metadata": {
  "kernelspec": {
   "display_name": "Mojo",
   "language": "mojo",
   "name": "mojo-jupyter-kernel"
  },
  "language_info": {
   "codemirror_mode": {
    "name": "mojo"
   },
   "file_extension": ".mojo",
   "mimetype": "text/x-mojo",
   "name": "mojo"
  },
  "orig_nbformat": 4
 },
 "nbformat": 4,
 "nbformat_minor": 2
}
