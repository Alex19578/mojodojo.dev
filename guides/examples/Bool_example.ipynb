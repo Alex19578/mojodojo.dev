{
 "cells": [
  {
   "cell_type": "markdown",
   "source": [
    "# Mojo's built in Bool"
   ],
   "metadata": {
    "collapsed": false
   }
  },
  {
   "cell_type": "markdown",
   "source": [
    "Here we will discuss all of the fields and functions implemented in Mojo's built in Bool class using examples.\n",
    "\n",
    "Mojo's Bool is initialized by setting a variable of type Bool using True (1) or Flase (0)"
   ],
   "metadata": {
    "collapsed": false
   }
  },
  {
   "cell_type": "code",
   "execution_count": null,
   "outputs": [],
   "source": [
    "var my_bool_value: Bool = True # __init__(value: i1)"
   ],
   "metadata": {
    "collapsed": false
   }
  },
  {
   "cell_type": "markdown",
   "source": [
    "my_bool_value now has a field called value which contains the boolean value True or False. In this case it is True."
   ],
   "metadata": {
    "collapsed": false
   }
  },
  {
   "cell_type": "code",
   "execution_count": null,
   "outputs": [],
   "source": [
    "print(my_bool_value)\n",
    "print(my_bool_value.value)"
   ],
   "metadata": {
    "collapsed": false
   }
  },
  {
   "cell_type": "markdown",
   "source": [
    "Bool also implements the basic operations such as == , !=, &, | and ^. These operations can be performed by using these infix operators or by calling \\_\\_eq\\_\\_, \\_\\_ne\\_\\_, \\_\\_and\\_\\_, \\_\\_or\\_\\_ and \\_\\_xor\\_\\_ respectively."
   ],
   "metadata": {
    "collapsed": false
   }
  },
  {
   "cell_type": "code",
   "execution_count": null,
   "outputs": [],
   "source": [
    "var my_second_bool_value: Bool = False"
   ],
   "metadata": {
    "collapsed": false
   }
  },
  {
   "cell_type": "code",
   "execution_count": null,
   "outputs": [],
   "source": [
    "print(\"They are equal:\", my_bool_value.__eq__(my_second_bool_value)) # or print(my_bool_value == my_second_bool_value)\n",
    "print(\"They are not equal:\",my_bool_value.__ne__(my_second_bool_value)) # or print(my_bool_value != my_second_bool_value)\n",
    "print(\"Are either of them True:\",my_bool_value.__or__(my_second_bool_value)) # or print(my_bool_value | my_second_bool_value)\n",
    "print(\"Are both of them True:\",my_bool_value.__and__(my_second_bool_value)) # or print(my_bool_value & my_second_bool_value)\n",
    "print(\"Are they different:\",my_bool_value.__xor__(my_second_bool_value)) # or print(my_bool_value ^ my_second_bool_value)"
   ],
   "metadata": {
    "collapsed": false
   }
  },
  {
   "cell_type": "markdown",
   "source": [
    "The \\_\\_ror\\_\\_ , \\_\\_rand\\_\\_ and \\_\\_rxor\\_\\_ works a bit differently. Firstly think of the r in these cases as reversed. The ror, rand and rxor is called if you are trying to call the and, or, xor functions with a struct or class that does not implement these functions.\n",
    "\n",
    "For example let say we have a struct called MyNumber that implements \\_\\_and\\_\\_ as well as \\_\\_rand\\_\\_, in the example below we want to see if MyNumber and another float has a value above 10."
   ],
   "metadata": {
    "collapsed": false
   }
  },
  {
   "cell_type": "code",
   "execution_count": null,
   "outputs": [],
   "source": [
    "struct MyNumber:\n",
    "    var float_value: FloatLiteral\n",
    "    fn __init__(inout self, num: FloatLiteral):\n",
    "        self.float_value = num\n",
    "\n",
    "    # This object can & with int\n",
    "    fn __and__(self, other: FloatLiteral) -> Bool:\n",
    "        print(\"Called MyNumber's __and__ function\")\n",
    "        if self.float_value > 10.0:\n",
    "            if other > 10:\n",
    "                return True\n",
    "        return False\n",
    "\n",
    "    fn __rand__(self, other: FloatLiteral) -> Bool:\n",
    "        print(\"Called MyNumber's __rand__ function\")\n",
    "        if self.float_value > 10.0:\n",
    "            if other > 10:\n",
    "                return True\n",
    "        return False"
   ],
   "metadata": {
    "collapsed": false
   }
  },
  {
   "cell_type": "markdown",
   "source": [
    "If you check the documentation on FloatLiterals (https://docs.modular.com/mojo/MojoBuiltin/FloatLiteral.html) you will see the class does not implenent \\_\\_and\\_\\_ (nor \\_\\_rand\\_\\_)."
   ],
   "metadata": {
    "collapsed": false
   }
  },
  {
   "cell_type": "code",
   "execution_count": null,
   "outputs": [],
   "source": [
    "let float_number = FloatLiteral(12.0)\n",
    "let my_number = MyNumber(15.0)"
   ],
   "metadata": {
    "collapsed": false
   }
  },
  {
   "cell_type": "markdown",
   "source": [
    "If MyNumber did not have the function \\_\\_rand\\_\\_ when you try execute print(float_number & my_number) the program will fail since FloatLiterals do not implement \\_\\_and\\_\\_. But since MyNumber implements \\_\\_rand\\_\\_ your program will try and run that function first before giving you an error."
   ],
   "metadata": {
    "collapsed": false
   }
  },
  {
   "cell_type": "code",
   "execution_count": null,
   "outputs": [],
   "source": [
    "print(float_number & my_number) # First tries float_number.__and__(my_number) but this fails so it reverses it and tries my_number.__rand__(float_number) and succeeds."
   ],
   "metadata": {
    "collapsed": false
   }
  },
  {
   "cell_type": "code",
   "execution_count": null,
   "outputs": [],
   "source": [
    "print(my_number & float_number) # First tries my_number.__and__(float_number) and succeeds."
   ],
   "metadata": {
    "collapsed": false
   }
  }
 ],
 "metadata": {
  "kernelspec": {
   "display_name": "Python 3",
   "language": "python",
   "name": "python3"
  },
  "language_info": {
   "codemirror_mode": {
    "name": "ipython",
    "version": 2
   },
   "file_extension": ".py",
   "mimetype": "text/x-python",
   "name": "python",
   "nbconvert_exporter": "python",
   "pygments_lexer": "ipython2",
   "version": "2.7.6"
  }
 },
 "nbformat": 4,
 "nbformat_minor": 0
}
