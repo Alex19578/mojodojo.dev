{
 "cells": [
  {
   "attachments": {},
   "cell_type": "markdown",
   "metadata": {},
   "source": [
    "---\n",
    "title: assert_param_msg\n",
    "categories: |\n",
    "  Assert\n",
    "usage: |\n",
    "    Asserts that the condition is true in the parameter (compile time) domain, and add a message to error on failure.\n",
    "---\n",
    "# assert_param_msg\n",
    "Asserts that the condition is true in the parameter (compile time) domain, and add a message to error on failure."
   ]
  },
  {
   "cell_type": "code",
   "execution_count": 2,
   "metadata": {},
   "outputs": [],
   "source": [
    "from Assert import assert_param_msg"
   ]
  },
  {
   "attachments": {},
   "cell_type": "markdown",
   "metadata": {},
   "source": [
    "We can put compile time assertions in the ensure that the two numbers passed in are positive"
   ]
  },
  {
   "cell_type": "code",
   "execution_count": 4,
   "metadata": {},
   "outputs": [],
   "source": [
    "fn add_positives[x: Int, y: Int]() -> UI8:\n",
    "    assert_param_msg[x > 0, \"x is not positve, use a positve number over 0\"]()\n",
    "    assert_param_msg[y > 0, \"y is not positive, use a positive number over 0 \"]()\n",
    "    return x + y"
   ]
  },
  {
   "attachments": {},
   "cell_type": "markdown",
   "metadata": {},
   "source": [
    "Let's get the result that's calculated at compile time"
   ]
  },
  {
   "cell_type": "code",
   "execution_count": 5,
   "metadata": {},
   "outputs": [
    {
     "name": "stdout",
     "output_type": "stream",
     "text": [
      "6\n"
     ]
    }
   ],
   "source": [
    "let res = add_positives[2, 4]()\n",
    "print(res)"
   ]
  },
  {
   "attachments": {},
   "cell_type": "markdown",
   "metadata": {},
   "source": [
    "Now we'll introduce the error so you can see how it looks, notice the last line"
   ]
  },
  {
   "cell_type": "code",
   "execution_count": 7,
   "metadata": {},
   "outputs": [
    {
     "name": "stderr",
     "output_type": "stream",
     "text": [
      "error: \u001b[0;1;31m\u001b[1mExpression [7]:6:1: \u001b[0m\u001b[1mno viable expansions found\n",
      "\u001b[0mfn __lldb_expr__(inout __mojo_repl_arg: __mojo_repl_context__):\n",
      "\u001b[0;1;32m^\n",
      "\u001b[0m\u001b[0m\n",
      "\u001b[0;1;30m\u001b[1mExpression [7]:8:28: \u001b[0m\u001b[1m  call expansion failed\n",
      "\u001b[0m    __mojo_repl_expr_impl__(__mojo_repl_arg, __get_address_as_lvalue(__mojo_repl_arg.`res`.load().address))\n",
      "\u001b[0;1;32m                           ^\n",
      "\u001b[0m\u001b[0m\n",
      "\u001b[0;1;30m\u001b[1mExpression [7]:12:1: \u001b[0m\u001b[1m    no viable expansions found\n",
      "\u001b[0mdef __mojo_repl_expr_impl__(inout __mojo_repl_arg: __mojo_repl_context__, inout `res`: __mlir_type.`!kgen.declref<@\"$SIMD\"::@SIMD<type: @\"$DType\"::@DType = #lit.struct<{value: dtype = ui8}>, size: @\"$Int\"::@Int = #lit.struct<{value: scalar<index> = 1}>>>`) -> None:\n",
      "\u001b[0;1;32m^\n",
      "\u001b[0m\u001b[0m\n",
      "\u001b[0;1;30m\u001b[1mExpression [7]:19:26: \u001b[0m\u001b[1m      call expansion failed\n",
      "\u001b[0m  __mojo_repl_expr_body__()\n",
      "\u001b[0;1;32m                         ^\n",
      "\u001b[0m\u001b[0m\n",
      "\u001b[0;1;30m\u001b[1mExpression [7]:14:3: \u001b[0m\u001b[1m        no viable expansions found\n",
      "\u001b[0m  def __mojo_repl_expr_body__() -> None:\n",
      "\u001b[0;1;32m  ^\n",
      "\u001b[0m\u001b[0m\n",
      "\u001b[0;1;30m\u001b[1mExpression [7]:16:26: \u001b[0m\u001b[1m          call expansion failed\n",
      "\u001b[0m    add_positives[-2, -4]()\n",
      "\u001b[0;1;32m                         ^\n",
      "\u001b[0m\u001b[0m\n",
      "\u001b[0;1;30m\u001b[1mExpression [4]:5:1: \u001b[0m\u001b[1m            no viable expansions found\n",
      "\u001b[0mfn add_positives[x: Int, y: Int]() -> UI8:\n",
      "\u001b[0;1;32m^\n",
      "\u001b[0m\u001b[0m\n",
      "\u001b[0;1;30m\u001b[1mExpression [4]:6:77: \u001b[0m\u001b[1m              constraint failed: x is not positve, use a positve number over 0\n",
      "\u001b[0m    assert_param_msg[x > 0, \"x is not positve, use a positve number over 0\"]()\n",
      "\u001b[0;1;32m                                                                            ^\n",
      "\u001b[0m\u001b[0m\n"
     ]
    }
   ],
   "source": [
    "add_positives[-2, -4]()"
   ]
  }
 ],
 "metadata": {
  "kernelspec": {
   "display_name": "Mojo",
   "language": "mojo",
   "name": "mojo-jupyter-kernel"
  },
  "language_info": {
   "codemirror_mode": {
    "name": "mojo"
   },
   "file_extension": ".mojo",
   "mimetype": "text/x-mojo",
   "name": "mojo"
  },
  "orig_nbformat": 4
 },
 "nbformat": 4,
 "nbformat_minor": 2
}
