{
 "cells": [
  {
   "attachments": {},
   "cell_type": "markdown",
   "metadata": {},
   "source": [
    "---\n",
    "title: debug_assert\n",
    "categories: Assert\n",
    "usage: Asserts that the condition is true in debug builds, and is not included in release builds\n",
    "---\n",
    "# debug_assert\n",
    "Asserts that the condition is true in debug builds, and is not included release builds"
   ]
  },
  {
   "cell_type": "code",
   "execution_count": 1,
   "metadata": {},
   "outputs": [],
   "source": [
    "from Assert import debug_assert"
   ]
  },
  {
   "cell_type": "code",
   "execution_count": 3,
   "metadata": {},
   "outputs": [],
   "source": [
    "let x = 10\n",
    "\n",
    "debug_assert(x == 10, \"x is not equal to 10\")\n",
    "debug_assert(x > 11, \"x is not more than 10\")"
   ]
  }
 ],
 "metadata": {
  "kernelspec": {
   "display_name": "Mojo",
   "language": "mojo",
   "name": "mojo-jupyter-kernel"
  },
  "language_info": {
   "codemirror_mode": {
    "name": "mojo"
   },
   "file_extension": ".mojo",
   "mimetype": "text/x-mojo",
   "name": "mojo"
  },
  "orig_nbformat": 4
 },
 "nbformat": 4,
 "nbformat_minor": 2
}
