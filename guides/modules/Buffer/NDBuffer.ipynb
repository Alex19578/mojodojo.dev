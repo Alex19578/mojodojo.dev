{
 "cells": [
  {
   "attachments": {},
   "cell_type": "markdown",
   "metadata": {},
   "source": [
    "---\n",
    "title: NDBuffer\n",
    "categories: Buffer\n",
    "usage: A buffer that doesn't own the underlying memory, it allows you to represent an N-Dimensional shape both statically, and dynamically at runtime\n",
    "---\n",
    "\n",
    "# NDBuffer\n",
    "\n",
    "A buffer that doesn't own the underlying memory, it allows you to represent an N-Dimensional shape both statically, and dynamically at runtime\n",
    "\n",
    "## Setup"
   ]
  },
  {
   "cell_type": "code",
   "execution_count": 11,
   "metadata": {},
   "outputs": [
    {
     "name": "stdout",
     "output_type": "stream",
     "text": [
      "7\n",
      "8\n"
     ]
    }
   ],
   "source": [
    "from DType import DType\n",
    "from List import DimList\n",
    "from Pointer import DTypePointer\n",
    "from Buffer import NDBuffer\n",
    "from Memory import memset_zero\n",
    "\n",
    "struct Tensor[RANK: Int, SHAPE: DimList, DT: DType]:\n",
    "    var data: DTypePointer[DT]\n",
    "    var buffer: NDBuffer[RANK, SHAPE, DT]\n",
    "\n",
    "    fn __init__(inout self):\n",
    "        let size = SHAPE.product[RANK]().get()\n",
    "        self.data = DTypePointer[DT].alloc(size)\n",
    "        memset_zero(self.data, size)\n",
    "        self.buffer = NDBuffer[RANK, SHAPE, DT](self.data)\n",
    "\n",
    "    fn __del__(var self):\n",
    "        self.data.free()"
   ]
  },
  {
   "attachments": {},
   "cell_type": "markdown",
   "metadata": {},
   "source": [
    "## Initialization"
   ]
  },
  {
   "cell_type": "code",
   "execution_count": null,
   "metadata": {},
   "outputs": [],
   "source": [
    "\n",
    "let x = Tensor[3, DimList(2, 2, 2), DType.uint8]()\n",
    "x.data.simd_store(0, SIMD[DType.uint8, 8](1, 2, 3, 4, 5, 6, 7, 8))\n",
    "\n",
    "print(x.buffer[1, 1, 0])\n",
    "print(x.buffer.num_elements())"
   ]
  }
 ],
 "metadata": {
  "kernelspec": {
   "display_name": "Mojo",
   "language": "mojo",
   "name": "mojo-jupyter-kernel"
  },
  "language_info": {
   "codemirror_mode": {
    "name": "mojo"
   },
   "file_extension": ".mojo",
   "mimetype": "text/x-mojo",
   "name": "mojo"
  },
  "orig_nbformat": 4
 },
 "nbformat": 4,
 "nbformat_minor": 2
}
