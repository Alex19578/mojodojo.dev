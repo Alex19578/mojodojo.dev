{
 "cells": [
  {
   "attachments": {},
   "cell_type": "markdown",
   "metadata": {},
   "source": [
    "---\n",
    "title: Pointer\n",
    "categories: |\n",
    "  Pointer\n",
    "usage: |\n",
    "  Store an address to any type, allowing you to allocate, load and modify single instances or arrays of the type on the heap\n",
    "---\n",
    "# Pointer\n",
    "  Store an address to any `register_passable` type, and allocate `n` amount of them to the heap."
   ]
  },
  {
   "attachments": {},
   "cell_type": "markdown",
   "metadata": {},
   "source": [
    "## Import"
   ]
  },
  {
   "cell_type": "code",
   "execution_count": 1,
   "metadata": {},
   "outputs": [],
   "source": [
    "from Pointer import Pointer\n",
    "\n",
    "from DType import DType\n",
    "from Random import rand\n",
    "from Memory import memset_zero"
   ]
  },
  {
   "attachments": {},
   "cell_type": "markdown",
   "metadata": {},
   "source": [
    "## Initialization\n",
    "Create a struct and use that as the type for the pointer"
   ]
  },
  {
   "cell_type": "code",
   "execution_count": 2,
   "metadata": {},
   "outputs": [],
   "source": [
    "struct Coord:\n",
    "    var name: StringRef\n",
    "    var x: UI8 \n",
    "    var y: UI8"
   ]
  },
  {
   "cell_type": "code",
   "execution_count": 3,
   "metadata": {},
   "outputs": [],
   "source": [
    "var p1 = Pointer[Coord].alloc(2)\n",
    "var p2 = Pointer[Coord].alloc(2)"
   ]
  },
  {
   "attachments": {},
   "cell_type": "markdown",
   "metadata": {},
   "source": [
    "All the values will be garbage, we need to manually zero them if there is a chance we might read the value before writing it, otherwise it'll be undefined behaviour (UB):"
   ]
  },
  {
   "cell_type": "code",
   "execution_count": 4,
   "metadata": {},
   "outputs": [],
   "source": [
    "memset_zero(p1, 2)\n",
    "memset_zero(p2, 2)"
   ]
  },
  {
   "attachments": {},
   "cell_type": "markdown",
   "metadata": {},
   "source": [
    "## Operators\n",
    "Perform operations with the two pointers"
   ]
  },
  {
   "cell_type": "code",
   "execution_count": 5,
   "metadata": {},
   "outputs": [
    {
     "name": "stdout",
     "output_type": "stream",
     "text": [
      "p1 is not null\n",
      "p1 and p2 are equal: False\n",
      "p1 and p2 are not equal: True\n"
     ]
    }
   ],
   "source": [
    "if p1:\n",
    "    print(\"p1 is not null\")\n",
    "print(\"p1 and p2 are equal:\", p1 == p2)\n",
    "print(\"p1 and p2 are not equal:\", p1 != p2)"
   ]
  },
  {
   "attachments": {},
   "cell_type": "markdown",
   "metadata": {},
   "source": [
    "Let's try printing the zeroed value from the first point:"
   ]
  },
  {
   "cell_type": "code",
   "execution_count": 6,
   "metadata": {},
   "outputs": [
    {
     "name": "stderr",
     "output_type": "stream",
     "text": [
      "error: \u001b[0;1;31m\u001b[1mExpression [6]:17:19: \u001b[0m\u001b[1minvalid call to '__getitem__': result cannot bind generic !mlirtype to memory-only type 'Coord'\n",
      "\u001b[0m    let coord = p1[0]\n",
      "\u001b[0;1;32m                ~~^~~\n",
      "\u001b[0m\u001b[0m\n",
      "\u001b[0;1;30m\u001b[1m/.modular/Kernels/mojo/Stdlib/Pointer.mojo:118:5: \u001b[0m\u001b[1mfunction declared here\n",
      "\u001b[0m    fn __getitem__(self, offset: Int) -> type:\n",
      "\u001b[0;1;32m    ^\n",
      "\u001b[0m\u001b[0m\n"
     ]
    }
   ],
   "source": [
    "let coord = p1[0]\n",
    "print(coord.x)"
   ]
  },
  {
   "attachments": {},
   "cell_type": "markdown",
   "metadata": {},
   "source": [
    "Take note of the above error, a `memory-only` type means it can't be passed through registers, we need that behavior to use the `[x]` syntax on a Pointer. Lets redefine it with `@register_passable` annotated: "
   ]
  },
  {
   "cell_type": "code",
   "execution_count": 7,
   "metadata": {},
   "outputs": [],
   "source": [
    "@register_passable\n",
    "struct Coord:\n",
    "    var name: StringRef\n",
    "    var x: UI8 \n",
    "    var y: UI8"
   ]
  },
  {
   "attachments": {},
   "cell_type": "markdown",
   "metadata": {},
   "source": [
    "Now we'll be able to use Python syntax to access objects of type `Coord`:"
   ]
  },
  {
   "cell_type": "code",
   "execution_count": 10,
   "metadata": {},
   "outputs": [
    {
     "name": "stdout",
     "output_type": "stream",
     "text": [
      "0\n"
     ]
    }
   ],
   "source": [
    "var p1 = Pointer[Coord].alloc(2)\n",
    "memset_zero(p1, 2)\n",
    "\n",
    "var coord = p1[0]\n",
    "print(coord.x)"
   ]
  },
  {
   "attachments": {},
   "cell_type": "markdown",
   "metadata": {},
   "source": [
    "Let's try setting the values"
   ]
  },
  {
   "cell_type": "code",
   "execution_count": 12,
   "metadata": {},
   "outputs": [],
   "source": [
    "coord.x = 5\n",
    "coord.y = 5\n",
    "coord.name = \"Nose\""
   ]
  },
  {
   "cell_type": "code",
   "execution_count": 16,
   "metadata": {},
   "outputs": [
    {
     "name": "stdout",
     "output_type": "stream",
     "text": [
      "0\n"
     ]
    }
   ],
   "source": [
    "print(p1[0].x)"
   ]
  },
  {
   "attachments": {},
   "cell_type": "markdown",
   "metadata": {},
   "source": [
    "Note above that `coord` is an identifier to memory on the stack or in a register, when we try and print `p1[0]` it hasn't been modified. We need to write the data."
   ]
  }
 ],
 "metadata": {
  "kernelspec": {
   "display_name": "Mojo",
   "language": "mojo",
   "name": "mojo-jupyter-kernel"
  },
  "language_info": {
   "codemirror_mode": {
    "name": "mojo"
   },
   "file_extension": ".mojo",
   "mimetype": "text/x-mojo",
   "name": "mojo"
  },
  "orig_nbformat": 4
 },
 "nbformat": 4,
 "nbformat_minor": 2
}
