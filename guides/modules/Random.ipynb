{
    "cells": [
        {
            "attachments": {},
            "cell_type": "markdown",
            "metadata": {},
            "source": [
                "---\n",
                "title: Random\n",
                "categories: Random\n",
                "usage: \"Provides functions for random numbers\"\n",
                "---\n",
                "\n",
                "# Random\n",
                "Provides functions for random numbers"
            ]
        },
        {
            "cell_type": "code",
            "execution_count": 1,
            "metadata": {
                "vscode": {
                    "languageId": "python"
                }
            },
            "outputs": [],
            "source": [
                "from Random import rand, randint\n",
                "from Pointer import DTypePointer\n",
                "from DType import DType\n",
                "from Memory import memset_zero"
            ]
        },
        {
            "attachments": {},
            "cell_type": "markdown",
            "metadata": {},
            "source": [
                "Let's create a two variables to store new addresses on the heap and allocate space for 8 values (note the different `DType`s)."
            ]
        },
        {
            "cell_type": "code",
            "execution_count": 2,
            "metadata": {
                "vscode": {
                    "languageId": "python"
                }
            },
            "outputs": [],
            "source": [
                "var p1 = DTypePointer[DType.ui8].alloc(8)\n",
                "var p2 = DTypePointer[DType.f32].alloc(8)"
            ]
        },
        {
            "attachments": {},
            "cell_type": "markdown",
            "metadata": {},
            "source": [
                "To start with a clean slate, lets zero them out first."
            ]
        },
        {
            "cell_type": "code",
            "execution_count": 3,
            "metadata": {
                "vscode": {
                    "languageId": "python"
                }
            },
            "outputs": [],
            "source": [
                "memset_zero(p1,8)\n",
                "memset_zero(p2,8)"
            ]
        },
        {
            "cell_type": "code",
            "execution_count": 4,
            "metadata": {
                "vscode": {
                    "languageId": "python"
                }
            },
            "outputs": [
                {
                    "name": "stdout",
                    "output_type": "stream",
                    "text": [
                        "values at p1: [0, 0, 0, 0, 0, 0, 0, 0]\n",
                        "values at p2: [0.0, 0.0, 0.0, 0.0, 0.0, 0.0, 0.0, 0.0]\n"
                    ]
                }
            ],
            "source": [
                "print('values at p1:', p1.simd_load[8](0))\n",
                "print('values at p2:', p2.simd_load[8](0))"
            ]
        },
        {
            "attachments": {},
            "cell_type": "markdown",
            "metadata": {},
            "source": [
                "## rand\n",
                "\n",
                "Fill the 8 values with random integer values."
            ]
        },
        {
            "cell_type": "code",
            "execution_count": 5,
            "metadata": {
                "vscode": {
                    "languageId": "python"
                }
            },
            "outputs": [
                {
                    "name": "stdout",
                    "output_type": "stream",
                    "text": [
                        "values at p1: [0, 33, 193, 117, 136, 56, 12, 173]\n",
                        "values at p2: [0.1315377950668335, 0.458650141954422, 0.21895918250083923, 0.67886471748352051, 0.93469291925430298, 0.51941639184951782, 0.034572109580039978, 0.52970021963119507]\n"
                    ]
                }
            ],
            "source": [
                "\n",
                "rand[DType.ui8](p1, 8)\n",
                "rand[DType.f32](p2, 8)\n",
                "print('values at p1:', p1.simd_load[8](0))\n",
                "print('values at p2:', p2.simd_load[8](0))\n"
            ]
        },
        {
            "attachments": {},
            "cell_type": "markdown",
            "metadata": {},
            "source": [
                "## randint\n",
                "Fill memory with integer values within a range, e.g. 0 to 10."
            ]
        },
        {
            "cell_type": "code",
            "execution_count": 6,
            "metadata": {
                "vscode": {
                    "languageId": "python"
                }
            },
            "outputs": [
                {
                    "name": "stdout",
                    "output_type": "stream",
                    "text": [
                        "[7, 10, 4, 5, 9, 0, 0, 5]\n"
                    ]
                }
            ],
            "source": [
                "randint[DType.ui8](p1, 8, 0, 10)\n",
                "print(p1.simd_load[8](0))"
            ]
        },
        {
            "attachments": {},
            "cell_type": "markdown",
            "metadata": {},
            "source": [
                "## random_f64\n",
                "\n",
                "Returns a single random `Float64` value within a specified range e.g 0.0 to 1.0."
            ]
        },
        {
            "cell_type": "code",
            "execution_count": 7,
            "metadata": {
                "vscode": {
                    "languageId": "python"
                }
            },
            "outputs": [
                {
                    "name": "stdout",
                    "output_type": "stream",
                    "text": [
                        "0.007698186061599179\n"
                    ]
                }
            ],
            "source": [
                "from Random import random_f64\n",
                "print(random_f64(0.0, 1.0))"
            ]
        },
        {
            "attachments": {},
            "cell_type": "markdown",
            "metadata": {},
            "source": [
                "## random_si64\n",
                "\n",
                "Returns a single random `Int64` value within a specified range e.g -10 to +10."
            ]
        },
        {
            "cell_type": "code",
            "execution_count": 8,
            "metadata": {
                "vscode": {
                    "languageId": "python"
                }
            },
            "outputs": [
                {
                    "name": "stdout",
                    "output_type": "stream",
                    "text": [
                        "-10\n"
                    ]
                }
            ],
            "source": [
                "from Random import random_si64\n",
                "print(random_si64(-10, 10))"
            ]
        },
        {
            "attachments": {},
            "cell_type": "markdown",
            "metadata": {},
            "source": [
                "## random_ui64\n",
                "\n",
                "Returns a single random `UInt64` value within a specified range e.g 0 to 10."
            ]
        },
        {
            "cell_type": "code",
            "execution_count": 9,
            "metadata": {
                "vscode": {
                    "languageId": "python"
                }
            },
            "outputs": [
                {
                    "name": "stdout",
                    "output_type": "stream",
                    "text": [
                        "7\n"
                    ]
                }
            ],
            "source": [
                "from Random import random_ui64\n",
                "print(random_ui64(0, 10))"
            ]
        }
    ],
    "metadata": {
        "kernelspec": {
            "display_name": "Mojo",
            "language": "mojo",
            "name": "mojo-jupyter-kernel"
        },
        "language_info": {
            "codemirror_mode": {
                "name": "mojo"
            },
            "file_extension": ".mojo",
            "mimetype": "text/x-mojo",
            "name": "mojo"
        },
        "orig_nbformat": 4
    },
    "nbformat": 4,
    "nbformat_minor": 2
}
