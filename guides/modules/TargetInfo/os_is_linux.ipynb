{
 "cells": [
  {
   "attachments": {},
   "cell_type": "markdown",
   "metadata": {},
   "source": [
    "---\n",
    "title: os_is_linux\n",
    "categories: TargetInfo\n",
    "usage: Returns true if the target OS is linux\n",
    "---"
   ]
  },
  {
   "cell_type": "code",
   "execution_count": 2,
   "metadata": {},
   "outputs": [
    {
     "name": "stdout",
     "output_type": "stream",
     "text": [
      "doing some special linux logic\n"
     ]
    }
   ],
   "source": [
    "from TargetInfo import os_is_linux\n",
    "\n",
    "@parameter\n",
    "if os_is_linux():\n",
    "    print(\"doing some special linux logic\")\n",
    "else:\n",
    "    print(\"doing some other logic\")"
   ]
  }
 ],
 "metadata": {
  "kernelspec": {
   "display_name": "Mojo",
   "language": "mojo",
   "name": "mojo-jupyter-kernel"
  },
  "language_info": {
   "codemirror_mode": {
    "name": "mojo"
   },
   "file_extension": ".mojo",
   "mimetype": "text/x-mojo",
   "name": "mojo"
  },
  "orig_nbformat": 4
 },
 "nbformat": 4,
 "nbformat_minor": 2
}
